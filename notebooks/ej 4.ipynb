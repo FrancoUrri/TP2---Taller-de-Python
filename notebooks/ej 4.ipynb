{
 "cells": [
  {
   "cell_type": "code",
   "execution_count": 1,
   "metadata": {},
   "outputs": [],
   "source": [
    "import sys\n",
    "import os\n",
    "\n",
    "sys.path.append(os.path.abspath(\"../src\"))"
   ]
  },
  {
   "cell_type": "code",
   "execution_count": 2,
   "metadata": {},
   "outputs": [
    {
     "name": "stdout",
     "output_type": "stream",
     "text": [
      "El nombre de usuario no cumple con los requisitos.\n"
     ]
    }
   ],
   "source": [
    "from user_name_check import is_valid\n",
    "name = input(\"Ingrese un nombre de usuario: \")\n",
    "if is_valid(name):\n",
    "\tprint(\"El nombre de usuario es válido.\")\n",
    "else:\n",
    "\tprint(\"El nombre de usuario no cumple con los requisitos.\")"
   ]
  }
 ],
 "metadata": {
  "kernelspec": {
   "display_name": "Python 3",
   "language": "python",
   "name": "python3"
  },
  "language_info": {
   "codemirror_mode": {
    "name": "ipython",
    "version": 3
   },
   "file_extension": ".py",
   "mimetype": "text/x-python",
   "name": "python",
   "nbconvert_exporter": "python",
   "pygments_lexer": "ipython3",
   "version": "3.12.9"
  }
 },
 "nbformat": 4,
 "nbformat_minor": 2
}
